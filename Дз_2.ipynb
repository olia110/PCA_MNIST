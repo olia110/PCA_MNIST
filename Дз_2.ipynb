{
  "nbformat": 4,
  "nbformat_minor": 0,
  "metadata": {
    "colab": {
      "provenance": []
    },
    "kernelspec": {
      "name": "python3",
      "display_name": "Python 3"
    },
    "language_info": {
      "name": "python"
    },
    "widgets": {
      "application/vnd.jupyter.widget-state+json": {
        "627b63133c534c56b3c91ae50843f51b": {
          "model_module": "@jupyter-widgets/controls",
          "model_name": "HBoxModel",
          "model_module_version": "1.5.0",
          "state": {
            "_dom_classes": [],
            "_model_module": "@jupyter-widgets/controls",
            "_model_module_version": "1.5.0",
            "_model_name": "HBoxModel",
            "_view_count": null,
            "_view_module": "@jupyter-widgets/controls",
            "_view_module_version": "1.5.0",
            "_view_name": "HBoxView",
            "box_style": "",
            "children": [
              "IPY_MODEL_ef64b0d5416f442b85eaddb17beaabc7",
              "IPY_MODEL_b7226bb421324a428a254df9bc2680c2",
              "IPY_MODEL_d2c4c8fcb59b4cfb861521ab2d43e77e"
            ],
            "layout": "IPY_MODEL_c64e782905744b239fd9286c82b8a9dd"
          }
        },
        "ef64b0d5416f442b85eaddb17beaabc7": {
          "model_module": "@jupyter-widgets/controls",
          "model_name": "HTMLModel",
          "model_module_version": "1.5.0",
          "state": {
            "_dom_classes": [],
            "_model_module": "@jupyter-widgets/controls",
            "_model_module_version": "1.5.0",
            "_model_name": "HTMLModel",
            "_view_count": null,
            "_view_module": "@jupyter-widgets/controls",
            "_view_module_version": "1.5.0",
            "_view_name": "HTMLView",
            "description": "",
            "description_tooltip": null,
            "layout": "IPY_MODEL_ace20d6a7cc74c59b1b54b6721d8fc31",
            "placeholder": "​",
            "style": "IPY_MODEL_cbcc6dfd75ae4b4cbe9e50c59adcda2e",
            "value": "Тестування розмірів маски: 100%"
          }
        },
        "b7226bb421324a428a254df9bc2680c2": {
          "model_module": "@jupyter-widgets/controls",
          "model_name": "FloatProgressModel",
          "model_module_version": "1.5.0",
          "state": {
            "_dom_classes": [],
            "_model_module": "@jupyter-widgets/controls",
            "_model_module_version": "1.5.0",
            "_model_name": "FloatProgressModel",
            "_view_count": null,
            "_view_module": "@jupyter-widgets/controls",
            "_view_module_version": "1.5.0",
            "_view_name": "ProgressView",
            "bar_style": "success",
            "description": "",
            "description_tooltip": null,
            "layout": "IPY_MODEL_bcfbbebdba874d5b801422103896590a",
            "max": 12,
            "min": 0,
            "orientation": "horizontal",
            "style": "IPY_MODEL_600b96eed6d74e5dba63ac27ec1d2cf6",
            "value": 12
          }
        },
        "d2c4c8fcb59b4cfb861521ab2d43e77e": {
          "model_module": "@jupyter-widgets/controls",
          "model_name": "HTMLModel",
          "model_module_version": "1.5.0",
          "state": {
            "_dom_classes": [],
            "_model_module": "@jupyter-widgets/controls",
            "_model_module_version": "1.5.0",
            "_model_name": "HTMLModel",
            "_view_count": null,
            "_view_module": "@jupyter-widgets/controls",
            "_view_module_version": "1.5.0",
            "_view_name": "HTMLView",
            "description": "",
            "description_tooltip": null,
            "layout": "IPY_MODEL_1bd6b6b3ffe440728d3d0eb83a9b59a3",
            "placeholder": "​",
            "style": "IPY_MODEL_319ff3ec97bd49b5808c64b8ad77681e",
            "value": " 12/12 [02:46&lt;00:00, 18.25s/it]"
          }
        },
        "c64e782905744b239fd9286c82b8a9dd": {
          "model_module": "@jupyter-widgets/base",
          "model_name": "LayoutModel",
          "model_module_version": "1.2.0",
          "state": {
            "_model_module": "@jupyter-widgets/base",
            "_model_module_version": "1.2.0",
            "_model_name": "LayoutModel",
            "_view_count": null,
            "_view_module": "@jupyter-widgets/base",
            "_view_module_version": "1.2.0",
            "_view_name": "LayoutView",
            "align_content": null,
            "align_items": null,
            "align_self": null,
            "border": null,
            "bottom": null,
            "display": null,
            "flex": null,
            "flex_flow": null,
            "grid_area": null,
            "grid_auto_columns": null,
            "grid_auto_flow": null,
            "grid_auto_rows": null,
            "grid_column": null,
            "grid_gap": null,
            "grid_row": null,
            "grid_template_areas": null,
            "grid_template_columns": null,
            "grid_template_rows": null,
            "height": null,
            "justify_content": null,
            "justify_items": null,
            "left": null,
            "margin": null,
            "max_height": null,
            "max_width": null,
            "min_height": null,
            "min_width": null,
            "object_fit": null,
            "object_position": null,
            "order": null,
            "overflow": null,
            "overflow_x": null,
            "overflow_y": null,
            "padding": null,
            "right": null,
            "top": null,
            "visibility": null,
            "width": null
          }
        },
        "ace20d6a7cc74c59b1b54b6721d8fc31": {
          "model_module": "@jupyter-widgets/base",
          "model_name": "LayoutModel",
          "model_module_version": "1.2.0",
          "state": {
            "_model_module": "@jupyter-widgets/base",
            "_model_module_version": "1.2.0",
            "_model_name": "LayoutModel",
            "_view_count": null,
            "_view_module": "@jupyter-widgets/base",
            "_view_module_version": "1.2.0",
            "_view_name": "LayoutView",
            "align_content": null,
            "align_items": null,
            "align_self": null,
            "border": null,
            "bottom": null,
            "display": null,
            "flex": null,
            "flex_flow": null,
            "grid_area": null,
            "grid_auto_columns": null,
            "grid_auto_flow": null,
            "grid_auto_rows": null,
            "grid_column": null,
            "grid_gap": null,
            "grid_row": null,
            "grid_template_areas": null,
            "grid_template_columns": null,
            "grid_template_rows": null,
            "height": null,
            "justify_content": null,
            "justify_items": null,
            "left": null,
            "margin": null,
            "max_height": null,
            "max_width": null,
            "min_height": null,
            "min_width": null,
            "object_fit": null,
            "object_position": null,
            "order": null,
            "overflow": null,
            "overflow_x": null,
            "overflow_y": null,
            "padding": null,
            "right": null,
            "top": null,
            "visibility": null,
            "width": null
          }
        },
        "cbcc6dfd75ae4b4cbe9e50c59adcda2e": {
          "model_module": "@jupyter-widgets/controls",
          "model_name": "DescriptionStyleModel",
          "model_module_version": "1.5.0",
          "state": {
            "_model_module": "@jupyter-widgets/controls",
            "_model_module_version": "1.5.0",
            "_model_name": "DescriptionStyleModel",
            "_view_count": null,
            "_view_module": "@jupyter-widgets/base",
            "_view_module_version": "1.2.0",
            "_view_name": "StyleView",
            "description_width": ""
          }
        },
        "bcfbbebdba874d5b801422103896590a": {
          "model_module": "@jupyter-widgets/base",
          "model_name": "LayoutModel",
          "model_module_version": "1.2.0",
          "state": {
            "_model_module": "@jupyter-widgets/base",
            "_model_module_version": "1.2.0",
            "_model_name": "LayoutModel",
            "_view_count": null,
            "_view_module": "@jupyter-widgets/base",
            "_view_module_version": "1.2.0",
            "_view_name": "LayoutView",
            "align_content": null,
            "align_items": null,
            "align_self": null,
            "border": null,
            "bottom": null,
            "display": null,
            "flex": null,
            "flex_flow": null,
            "grid_area": null,
            "grid_auto_columns": null,
            "grid_auto_flow": null,
            "grid_auto_rows": null,
            "grid_column": null,
            "grid_gap": null,
            "grid_row": null,
            "grid_template_areas": null,
            "grid_template_columns": null,
            "grid_template_rows": null,
            "height": null,
            "justify_content": null,
            "justify_items": null,
            "left": null,
            "margin": null,
            "max_height": null,
            "max_width": null,
            "min_height": null,
            "min_width": null,
            "object_fit": null,
            "object_position": null,
            "order": null,
            "overflow": null,
            "overflow_x": null,
            "overflow_y": null,
            "padding": null,
            "right": null,
            "top": null,
            "visibility": null,
            "width": null
          }
        },
        "600b96eed6d74e5dba63ac27ec1d2cf6": {
          "model_module": "@jupyter-widgets/controls",
          "model_name": "ProgressStyleModel",
          "model_module_version": "1.5.0",
          "state": {
            "_model_module": "@jupyter-widgets/controls",
            "_model_module_version": "1.5.0",
            "_model_name": "ProgressStyleModel",
            "_view_count": null,
            "_view_module": "@jupyter-widgets/base",
            "_view_module_version": "1.2.0",
            "_view_name": "StyleView",
            "bar_color": null,
            "description_width": ""
          }
        },
        "1bd6b6b3ffe440728d3d0eb83a9b59a3": {
          "model_module": "@jupyter-widgets/base",
          "model_name": "LayoutModel",
          "model_module_version": "1.2.0",
          "state": {
            "_model_module": "@jupyter-widgets/base",
            "_model_module_version": "1.2.0",
            "_model_name": "LayoutModel",
            "_view_count": null,
            "_view_module": "@jupyter-widgets/base",
            "_view_module_version": "1.2.0",
            "_view_name": "LayoutView",
            "align_content": null,
            "align_items": null,
            "align_self": null,
            "border": null,
            "bottom": null,
            "display": null,
            "flex": null,
            "flex_flow": null,
            "grid_area": null,
            "grid_auto_columns": null,
            "grid_auto_flow": null,
            "grid_auto_rows": null,
            "grid_column": null,
            "grid_gap": null,
            "grid_row": null,
            "grid_template_areas": null,
            "grid_template_columns": null,
            "grid_template_rows": null,
            "height": null,
            "justify_content": null,
            "justify_items": null,
            "left": null,
            "margin": null,
            "max_height": null,
            "max_width": null,
            "min_height": null,
            "min_width": null,
            "object_fit": null,
            "object_position": null,
            "order": null,
            "overflow": null,
            "overflow_x": null,
            "overflow_y": null,
            "padding": null,
            "right": null,
            "top": null,
            "visibility": null,
            "width": null
          }
        },
        "319ff3ec97bd49b5808c64b8ad77681e": {
          "model_module": "@jupyter-widgets/controls",
          "model_name": "DescriptionStyleModel",
          "model_module_version": "1.5.0",
          "state": {
            "_model_module": "@jupyter-widgets/controls",
            "_model_module_version": "1.5.0",
            "_model_name": "DescriptionStyleModel",
            "_view_count": null,
            "_view_module": "@jupyter-widgets/base",
            "_view_module_version": "1.2.0",
            "_view_name": "StyleView",
            "description_width": ""
          }
        }
      }
    }
  },
  "cells": [
    {
      "cell_type": "markdown",
      "source": [
        "# MNIST за допомогою PCA"
      ],
      "metadata": {
        "id": "4QuOTyUvPi56"
      }
    },
    {
      "cell_type": "code",
      "source": [
        "import numpy as np\n",
        "import matplotlib.pyplot as plt\n",
        "import torch\n",
        "import torch.nn as nn\n",
        "import torch.optim as optim\n",
        "from torch.utils.data import DataLoader, TensorDataset\n",
        "from torchvision import datasets, transforms\n",
        "from sklearn.decomposition import PCA\n",
        "from sklearn.preprocessing import StandardScaler\n",
        "from tqdm.notebook import tqdm\n",
        "import time"
      ],
      "metadata": {
        "id": "eySCb0ZZPx57"
      },
      "execution_count": 4,
      "outputs": []
    },
    {
      "cell_type": "markdown",
      "source": [
        "## Налаштування та конфігурація"
      ],
      "metadata": {
        "id": "dARtTxdjP14b"
      }
    },
    {
      "cell_type": "code",
      "source": [
        "device = torch.device(\"cuda\" if torch.cuda.is_available() else \"cpu\")\n",
        "print(f\" пристрій: {device}\")\n",
        "\n",
        "BATCH_SIZE = 128\n",
        "EPOCHS = 5\n",
        "LEARNING_RATE = 0.001\n",
        "RANDOM_SEED = 42\n",
        "\n",
        "np.random.seed(RANDOM_SEED)\n",
        "torch.manual_seed(RANDOM_SEED)\n",
        "if torch.cuda.is_available():\n",
        "    torch.cuda.manual_seed_all(RANDOM_SEED)"
      ],
      "metadata": {
        "colab": {
          "base_uri": "https://localhost:8080/"
        },
        "id": "Q82IjzaRPz2f",
        "outputId": "2539b880-dbf9-4a98-de1f-a6186af2da68"
      },
      "execution_count": 5,
      "outputs": [
        {
          "output_type": "stream",
          "name": "stdout",
          "text": [
            " пристрій: cpu\n"
          ]
        }
      ]
    },
    {
      "cell_type": "markdown",
      "source": [
        "## Завантаження MNIST"
      ],
      "metadata": {
        "id": "qsWK3UN4P5_R"
      }
    },
    {
      "cell_type": "code",
      "source": [
        "train_data = datasets.MNIST(root='./data', train=True, download=True, transform=transforms.ToTensor())\n",
        "test_data = datasets.MNIST(root='./data', train=False, download=True, transform=transforms.ToTensor())\n",
        "\n",
        "X_train_np = train_data.data.numpy().reshape(len(train_data), -1).astype(np.float32) / 255.0\n",
        "y_train_np = train_data.targets.numpy()\n",
        "\n",
        "X_test_np = test_data.data.numpy().reshape(len(test_data), -1).astype(np.float32) / 255.0\n",
        "y_test_np = test_data.targets.numpy()\n",
        "\n",
        "print(f\"Розмір тренувальних даних : {X_train_np.shape}\")\n",
        "print(f\"Розмір тестових даних : {X_test_np.shape}\")"
      ],
      "metadata": {
        "colab": {
          "base_uri": "https://localhost:8080/"
        },
        "id": "Hfh-L-fdP82G",
        "outputId": "5e42b051-adec-475b-fe04-7413c000bf21"
      },
      "execution_count": 6,
      "outputs": [
        {
          "output_type": "stream",
          "name": "stdout",
          "text": [
            "Розмір тренувальних даних : (60000, 784)\n",
            "Розмір тестових даних : (10000, 784)\n"
          ]
        }
      ]
    },
    {
      "cell_type": "markdown",
      "source": [
        "##  PCA та важливість пікселів"
      ],
      "metadata": {
        "id": "Ot74x3ZtQA0b"
      }
    },
    {
      "cell_type": "code",
      "source": [
        "\n",
        "n_pixels = X_train_np.shape[1] # 784\n",
        "\n",
        "# Навчання PCA\n",
        "pca = PCA(n_components=n_pixels, random_state=RANDOM_SEED)\n",
        "pca.fit(X_train_np)\n",
        "\n",
        "# Важливість пікселів\n",
        "# (784, 784)\n",
        "pixel_importance = np.sum(pca.components_**2, axis=0)\n",
        "\n",
        "sorted_pixel_indices = np.argsort(pixel_importance)[::-1]"
      ],
      "metadata": {
        "id": "Qx9hTztBP_wf"
      },
      "execution_count": 7,
      "outputs": []
    },
    {
      "cell_type": "markdown",
      "source": [
        "## Функція маскування"
      ],
      "metadata": {
        "id": "v1cUKIpsRAk1"
      }
    },
    {
      "cell_type": "code",
      "source": [
        "def create_mask(num_pixels_to_keep, sorted_indices, original_dim=784):\n",
        "    \"\"\"Збереження k найкращих пікселів.\"\"\"\n",
        "    mask = np.zeros(original_dim, dtype=bool)\n",
        "    kept_indices = sorted_indices[:num_pixels_to_keep]\n",
        "    mask[kept_indices] = True\n",
        "    return mask, kept_indices\n",
        "\n",
        "def apply_mask_np(data_np, mask):\n",
        "    return data_np[:, mask]"
      ],
      "metadata": {
        "id": "L-JzNVIIQKMK"
      },
      "execution_count": 8,
      "outputs": []
    },
    {
      "cell_type": "markdown",
      "source": [
        "## Проста нейронна мережа"
      ],
      "metadata": {
        "id": "AMTHGHFvRf7w"
      }
    },
    {
      "cell_type": "code",
      "source": [
        "class SimpleNN(nn.Module):\n",
        "    def __init__(self, input_size, num_classes=10):\n",
        "        super(SimpleNN, self).__init__()\n",
        "        self.fc1 = nn.Linear(input_size, 128)\n",
        "        self.relu1 = nn.ReLU()\n",
        "        self.fc2 = nn.Linear(128, 64)\n",
        "        self.relu2 = nn.ReLU()\n",
        "        self.fc3 = nn.Linear(64, num_classes)\n",
        "\n",
        "    def forward(self, x):\n",
        "        x = self.fc1(x)\n",
        "        x = self.relu1(x)\n",
        "        x = self.fc2(x)\n",
        "        x = self.relu2(x)\n",
        "        x = self.fc3(x)\n",
        "        return x\n"
      ],
      "metadata": {
        "id": "SXAgaVYfQOub"
      },
      "execution_count": 9,
      "outputs": []
    },
    {
      "cell_type": "markdown",
      "source": [
        "## Функції тренування та оцінки"
      ],
      "metadata": {
        "id": "Hct6SvEQRrN9"
      }
    },
    {
      "cell_type": "code",
      "source": [
        "transform_normalize = transforms.Compose([\n",
        "    transforms.Normalize((0.1307,), (0.3081,))\n",
        "])\n",
        "\n",
        "def prepare_dataloaders(X_train, y_train, X_test, y_test, batch_size, mask=None):\n",
        "\n",
        "    # Застосовуємо маску\n",
        "    if mask is not None:\n",
        "        X_train_masked = apply_mask_np(X_train, mask)\n",
        "        X_test_masked = apply_mask_np(X_test, mask)\n",
        "    else:\n",
        "        X_train_masked = X_train\n",
        "        X_test_masked = X_test\n",
        "\n",
        "    X_train_tensor = torch.tensor(X_train_masked, dtype=torch.float32)\n",
        "    y_train_tensor = torch.tensor(y_train, dtype=torch.long)\n",
        "    X_test_tensor = torch.tensor(X_test_masked, dtype=torch.float32)\n",
        "    y_test_tensor = torch.tensor(y_test, dtype=torch.long)\n",
        "\n",
        "    train_mean = X_train_tensor.mean(dim=0, keepdim=True)\n",
        "    train_std = X_train_tensor.std(dim=0, keepdim=True)\n",
        "    train_std = torch.where(train_std == 0, torch.tensor(1.0), train_std)\n",
        "\n",
        "    X_train_normalized = (X_train_tensor - train_mean) / train_std\n",
        "    X_test_normalized = (X_test_tensor - train_mean) / train_std\n",
        "\n",
        "    # Датасети\n",
        "    train_dataset = TensorDataset(X_train_normalized, y_train_tensor)\n",
        "    test_dataset = TensorDataset(X_test_normalized, y_test_tensor)\n",
        "\n",
        "    # Завантажувачі даних\n",
        "    train_loader = DataLoader(train_dataset, batch_size=batch_size, shuffle=True)\n",
        "    test_loader = DataLoader(test_dataset, batch_size=batch_size, shuffle=False)\n",
        "\n",
        "    return train_loader, test_loader\n",
        "\n",
        "def train_model(model, train_loader, criterion, optimizer, epochs, device):\n",
        "    \"\"\"Тренує модель\"\"\"\n",
        "    model.train()\n",
        "    for epoch in range(epochs):\n",
        "        running_loss = 0.0\n",
        "        for inputs, labels in train_loader:\n",
        "            inputs, labels = inputs.to(device), labels.to(device)\n",
        "\n",
        "            optimizer.zero_grad()\n",
        "            outputs = model(inputs)\n",
        "            loss = criterion(outputs, labels)\n",
        "            loss.backward()\n",
        "            optimizer.step()\n",
        "            running_loss += loss.item() * inputs.size(0)\n",
        "\n",
        "    print(f\"Тренування завершено після {epochs} епох.\")\n",
        "\n",
        "\n",
        "def evaluate_model(model, test_loader, device):\n",
        "    \"\"\"Оцінює модель.\"\"\"\n",
        "    model.eval()\n",
        "    correct = 0\n",
        "    total = 0\n",
        "    with torch.no_grad():\n",
        "        for inputs, labels in test_loader:\n",
        "            inputs, labels = inputs.to(device), labels.to(device)\n",
        "            outputs = model(inputs)\n",
        "            _, predicted = torch.max(outputs.data, 1)\n",
        "            total += labels.size(0)\n",
        "            correct += (predicted == labels).sum().item()\n",
        "    accuracy = 100 * correct / total\n",
        "    return accuracy\n"
      ],
      "metadata": {
        "id": "JPdbxrfGQPTL"
      },
      "execution_count": 18,
      "outputs": []
    },
    {
      "cell_type": "markdown",
      "source": [
        "## Тренування та оцінка"
      ],
      "metadata": {
        "id": "mEbZJzYyR-3P"
      }
    },
    {
      "cell_type": "code",
      "source": [
        "input_size_full = n_pixels # 784\n",
        "train_loader_full, test_loader_full = prepare_dataloaders(\n",
        "    X_train_np, y_train_np, X_test_np, y_test_np, BATCH_SIZE, mask=None\n",
        ")\n",
        "\n",
        "model_full = SimpleNN(input_size=input_size_full).to(device)\n",
        "criterion_full = nn.CrossEntropyLoss()\n",
        "optimizer_full = optim.Adam(model_full.parameters(), lr=LEARNING_RATE)\n",
        "\n",
        "start_time = time.time()\n",
        "train_model(model_full, train_loader_full, criterion_full, optimizer_full, EPOCHS, device)\n",
        "training_time_full = time.time() - start_time\n",
        "\n",
        "accuracy_full = evaluate_model(model_full, test_loader_full, device)\n",
        "print(f\"Час : {training_time_full:.2f} секунд\")\n",
        "print(f\"Точність : {accuracy_full:.2f}%\")"
      ],
      "metadata": {
        "colab": {
          "base_uri": "https://localhost:8080/"
        },
        "id": "fSg12D0bQTXB",
        "outputId": "5221a788-cdd8-4bb1-8f8b-a4de42233996"
      },
      "execution_count": 19,
      "outputs": [
        {
          "output_type": "stream",
          "name": "stdout",
          "text": [
            "Тренування завершено після 5 епох.\n",
            "Час : 12.16 секунд\n",
            "Точність : 97.58%\n"
          ]
        }
      ]
    },
    {
      "cell_type": "markdown",
      "source": [
        "## Експеримент з даними з маскою"
      ],
      "metadata": {
        "id": "rpp9Or7BSRBh"
      }
    },
    {
      "cell_type": "code",
      "source": [
        "pixels_to_keep_list = [50, 75, 100, 150, 200, 250, 300, 400, 500, 600, 700, 784] # 784 для порівняння\n",
        "results = {}\n",
        "\n",
        "for k in tqdm(pixels_to_keep_list, desc=\"Тестування розмірів маски\"):\n",
        "    if k > n_pixels: k = n_pixels\n",
        "    print(f\"\\nТренування з Топ {k} пікселями...\")\n",
        "\n",
        "    mask, _ = create_mask(k, sorted_pixel_indices, n_pixels)\n",
        "    input_size_masked = k\n",
        "\n",
        "    train_loader_masked, test_loader_masked = prepare_dataloaders(\n",
        "        X_train_np, y_train_np, X_test_np, y_test_np, BATCH_SIZE, mask=mask\n",
        "    )\n",
        "\n",
        "    model_masked = SimpleNN(input_size=input_size_masked).to(device)\n",
        "    criterion_masked = nn.CrossEntropyLoss()\n",
        "    optimizer_masked = optim.Adam(model_masked.parameters(), lr=LEARNING_RATE)\n",
        "\n",
        "    start_time = time.time()\n",
        "    train_model(model_masked, train_loader_masked, criterion_masked, optimizer_masked, EPOCHS, device)\n",
        "    training_time_masked = time.time() - start_time\n",
        "\n",
        "    # Оцінка\n",
        "    accuracy_masked = evaluate_model(model_masked, test_loader_masked, device)\n",
        "    print(f\"Час тренування ({k} пікселів): {training_time_masked:.2f} секунд\")\n",
        "    print(f\"Точність з {k} пікселями: {accuracy_masked:.2f}%\")\n",
        "    results[k] = accuracy_masked\n",
        "\n",
        "    if k == 200:\n",
        "        mask_img = mask.reshape(28, 28)\n",
        "        plt.figure(figsize=(4, 4))\n",
        "        plt.imshow(mask_img, cmap='gray', interpolation='none')\n",
        "        plt.title(f'Маска: Залишено Топ {k} пікселів (білі)')\n",
        "        plt.axis('off')\n",
        "        plt.show()\n"
      ],
      "metadata": {
        "colab": {
          "base_uri": "https://localhost:8080/",
          "height": 1000,
          "referenced_widgets": [
            "627b63133c534c56b3c91ae50843f51b",
            "ef64b0d5416f442b85eaddb17beaabc7",
            "b7226bb421324a428a254df9bc2680c2",
            "d2c4c8fcb59b4cfb861521ab2d43e77e",
            "c64e782905744b239fd9286c82b8a9dd",
            "ace20d6a7cc74c59b1b54b6721d8fc31",
            "cbcc6dfd75ae4b4cbe9e50c59adcda2e",
            "bcfbbebdba874d5b801422103896590a",
            "600b96eed6d74e5dba63ac27ec1d2cf6",
            "1bd6b6b3ffe440728d3d0eb83a9b59a3",
            "319ff3ec97bd49b5808c64b8ad77681e"
          ]
        },
        "id": "PqUijiEDQaBK",
        "outputId": "e8ede526-2e60-4d3c-f184-164e6609c2ae"
      },
      "execution_count": 20,
      "outputs": [
        {
          "output_type": "display_data",
          "data": {
            "text/plain": [
              "Тестування розмірів маски:   0%|          | 0/12 [00:00<?, ?it/s]"
            ],
            "application/vnd.jupyter.widget-view+json": {
              "version_major": 2,
              "version_minor": 0,
              "model_id": "627b63133c534c56b3c91ae50843f51b"
            }
          },
          "metadata": {}
        },
        {
          "output_type": "stream",
          "name": "stdout",
          "text": [
            "\n",
            "Тренування з Топ 50 пікселями...\n",
            "Тренування завершено після 5 епох.\n",
            "Час тренування (50 пікселів): 8.38 секунд\n",
            "Точність з 50 пікселями: 67.03%\n",
            "\n",
            "Тренування з Топ 75 пікселями...\n",
            "Тренування завершено після 5 епох.\n",
            "Час тренування (75 пікселів): 8.25 секунд\n",
            "Точність з 75 пікселями: 84.94%\n",
            "\n",
            "Тренування з Топ 100 пікселями...\n",
            "Тренування завершено після 5 епох.\n",
            "Час тренування (100 пікселів): 9.05 секунд\n",
            "Точність з 100 пікселями: 88.03%\n",
            "\n",
            "Тренування з Топ 150 пікселями...\n",
            "Тренування завершено після 5 епох.\n",
            "Час тренування (150 пікселів): 10.37 секунд\n",
            "Точність з 150 пікселями: 91.50%\n",
            "\n",
            "Тренування з Топ 200 пікселями...\n",
            "Тренування завершено після 5 епох.\n",
            "Час тренування (200 пікселів): 10.79 секунд\n",
            "Точність з 200 пікселями: 94.41%\n"
          ]
        },
        {
          "output_type": "display_data",
          "data": {
            "text/plain": [
              "<Figure size 400x400 with 1 Axes>"
            ],
            "image/png": "[encoded data removed]"
          },
          "metadata": {}
        },
        {
          "output_type": "stream",
          "name": "stdout",
          "text": [
            "\n",
            "Тренування з Топ 250 пікселями...\n",
            "Тренування завершено після 5 епох.\n",
            "Час тренування (250 пікселів): 12.09 секунд\n",
            "Точність з 250 пікселями: 94.60%\n",
            "\n",
            "Тренування з Топ 300 пікселями...\n",
            "Тренування завершено після 5 епох.\n",
            "Час тренування (300 пікселів): 12.65 секунд\n",
            "Точність з 300 пікселями: 95.06%\n",
            "\n",
            "Тренування з Топ 400 пікселями...\n",
            "Тренування завершено після 5 епох.\n",
            "Час тренування (400 пікселів): 13.90 секунд\n",
            "Точність з 400 пікселями: 96.16%\n",
            "\n",
            "Тренування з Топ 500 пікселями...\n",
            "Тренування завершено після 5 епох.\n",
            "Час тренування (500 пікселів): 15.46 секунд\n",
            "Точність з 500 пікселями: 96.54%\n",
            "\n",
            "Тренування з Топ 600 пікселями...\n",
            "Тренування завершено після 5 епох.\n",
            "Час тренування (600 пікселів): 17.48 секунд\n",
            "Точність з 600 пікселями: 97.27%\n",
            "\n",
            "Тренування з Топ 700 пікселями...\n",
            "Тренування завершено після 5 епох.\n",
            "Час тренування (700 пікселів): 18.60 секунд\n",
            "Точність з 700 пікселями: 97.04%\n",
            "\n",
            "Тренування з Топ 784 пікселями...\n",
            "Тренування завершено після 5 епох.\n",
            "Час тренування (784 пікселів): 20.25 секунд\n",
            "Точність з 784 пікселями: 97.33%\n"
          ]
        }
      ]
    },
    {
      "cell_type": "markdown",
      "source": [
        "## Візуалізація"
      ],
      "metadata": {
        "id": "zwXrbxaVSdEE"
      }
    },
    {
      "cell_type": "code",
      "source": [
        "sorted_pixels = sorted(results.keys())\n",
        "sorted_accuracies = [results[k] for k in sorted_pixels]\n",
        "\n",
        "plt.figure(figsize=(10, 6))\n",
        "plt.plot(sorted_pixels, sorted_accuracies, marker='o')\n",
        "plt.axhline(y=accuracy_full, color='r', linestyle='--', label=f'Точність на повних ({accuracy_full:.2f}%)')\n",
        "plt.xlabel(\"Кількість залишених пікселів (обрані за важливістю PCA)\")\n",
        "plt.ylabel(\"Точність на тесті (%)\")\n",
        "plt.title(\"Точність НМ MNIST vs. Кількість залишених пікселів (Маскування PCA)\")\n",
        "plt.grid(True)\n",
        "plt.legend()\n",
        "plt.show()"
      ],
      "metadata": {
        "colab": {
          "base_uri": "https://localhost:8080/",
          "height": 564
        },
        "id": "CfnFsgF-QckJ",
        "outputId": "5867c12d-c201-41a8-b5d3-7ec6ec61d386"
      },
      "execution_count": 21,
      "outputs": [
        {
          "output_type": "display_data",
          "data": {
            "text/plain": [
              "<Figure size 1000x600 with 1 Axes>"
            ],
            "image/png": "[encoded data removed]"
          },
          "metadata": {}
        }
      ]
    },
    {
      "cell_type": "code",
      "source": [
        "# Важливість пікселів\n",
        "plt.figure(figsize=(5, 5))\n",
        "plt.imshow(pixel_importance.reshape(28, 28), cmap='viridis')\n",
        "plt.colorbar(label='Важливість пікселя (Сума квадратів навантажень)')\n",
        "plt.title('Карта важливості пікселів на основі PCA')\n",
        "plt.axis('off')\n",
        "plt.show()"
      ],
      "metadata": {
        "colab": {
          "base_uri": "https://localhost:8080/",
          "height": 437
        },
        "id": "GNCVZ4mjTdWL",
        "outputId": "72afc6b0-3795-4217-a4a4-58888764c871"
      },
      "execution_count": 22,
      "outputs": [
        {
          "output_type": "display_data",
          "data": {
            "text/plain": [
              "<Figure size 500x500 with 2 Axes>"
            ],
            "image/png": "[encoded data removed]"
          },
          "metadata": {}
        }
      ]
    },
    {
      "cell_type": "markdown",
      "source": [
        "## Висновок"
      ],
      "metadata": {
        "id": "hqHw_lbKSlCv"
      }
    },
    {
      "cell_type": "code",
      "source": [
        "print(f\"Базова точність з {n_pixels} пікселями: {accuracy_full:.2f}%\")\n",
        "\n",
        "best_k = max(results, key=results.get)\n",
        "print(f\"Найвища точність ({results[best_k]:.2f}%) з {best_k} пікселями (з маскою).\")\n",
        "\n",
        "threshold = accuracy_full * 0.99\n",
        "optimal_k = n_pixels\n",
        "for k in sorted_pixels:\n",
        "    if k in results and results[k] >= threshold:\n",
        "        optimal_k = k\n",
        "        break\n",
        "\n",
        "print(f\"Найменша кількість пікселів для досягнення точності >= {threshold:.2f}% (99% від базової): {optimal_k} пікселів (Точність: {results.get(optimal_k, 'N/A'):.2f}%)\")\n",
        "if optimal_k <= n_pixels:\n",
        "    print(f\"Це означає, що потенційно ~{n_pixels - optimal_k} пікселів можна видалити з мінімальною втратою точності для цієї конкретної моделі та завдання.\")\n",
        "else:\n",
        "    print(\"Не вдалося знайти кількість пікселів, що відповідає порогу 99% базової точності зі списку протестованих.\")"
      ],
      "metadata": {
        "colab": {
          "base_uri": "https://localhost:8080/"
        },
        "id": "VnUrip4RL76a",
        "outputId": "b2136498-d167-4272-e629-2e124adb1095"
      },
      "execution_count": 23,
      "outputs": [
        {
          "output_type": "stream",
          "name": "stdout",
          "text": [
            "Базова точність з 784 пікселями: 97.58%\n",
            "Найвища точність (97.33%) з 784 пікселями (з маскою).\n",
            "Найменша кількість пікселів для досягнення точності >= 96.60% (99% від базової): 600 пікселів (Точність: 97.27%)\n",
            "Це означає, що потенційно ~184 пікселів можна видалити з мінімальною втратою точності для цієї конкретної моделі та завдання.\n"
          ]
        }
      ]
    },
    {
      "cell_type": "code",
      "source": [],
      "metadata": {
        "id": "n7JoRwxpU8Rv"
      },
      "execution_count": 23,
      "outputs": []
    }
  ]
}